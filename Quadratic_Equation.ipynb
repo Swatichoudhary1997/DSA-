{
  "nbformat": 4,
  "nbformat_minor": 0,
  "metadata": {
    "colab": {
      "provenance": []
    },
    "kernelspec": {
      "name": "python3",
      "display_name": "Python 3"
    },
    "language_info": {
      "name": "python"
    }
  },
  "cells": [
    {
      "cell_type": "code",
      "execution_count": null,
      "metadata": {
        "id": "Ppqo_1a9VeFF"
      },
      "outputs": [],
      "source": [
        "import math\n",
        "a = float(input(\"Enter a:\"))\n",
        "b = float(input(\"Enter b:\"))\n",
        "c = float(input(\"Enter c:\"))\n",
        "disc = b**2 - 4*a*c\n",
        "if disc>0:\n",
        "  root1 = (-b+math.sqrt(disc))/(2*a)\n",
        "  root2 = (-b-math.sqrt(disc))/(2*a)\n",
        "  print(f\"two real and distinct roots:{root1:.2f} and {root2:.2f}\")\n",
        "elif disc==0:\n",
        "  root=-b/(2*a)\n",
        "  print(f\"One real root: {root:.2f}\")\n",
        "else:\n",
        "    real = -b/(2*a)\n",
        "    imag = math.sqrt(-disc)/(2*a)\n",
        "    print(f\"Two complex roots: {real:.2f}+{imag:.2f}i and {real:.2f}-{imag:.2f}\")"
      ]
    },
    {
      "cell_type": "code",
      "source": [],
      "metadata": {
        "id": "8lvdq1MXZn_m"
      },
      "execution_count": null,
      "outputs": []
    }
  ]
}